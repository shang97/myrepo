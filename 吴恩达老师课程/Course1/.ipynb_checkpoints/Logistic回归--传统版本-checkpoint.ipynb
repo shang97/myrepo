{
 "cells": [
  {
   "cell_type": "code",
   "execution_count": 185,
   "metadata": {},
   "outputs": [],
   "source": [
    "import numpy as np\n",
    "import matplotlib.pyplot as plt\n",
    "%matplotlib inline\n",
    "\n",
    "import h5py # 加载 .h5型数据文件"
   ]
  },
  {
   "cell_type": "markdown",
   "metadata": {},
   "source": [
    "#### 加载图片数据集"
   ]
  },
  {
   "cell_type": "code",
   "execution_count": 186,
   "metadata": {},
   "outputs": [],
   "source": [
    "def load_dataset():\n",
    "    # 训练集有 209 张 64x64像素（宽x高）的图像，包含三个色素（R，G，B）\n",
    "    train_dataset = h5py.File('datasets/train_catvnoncat.h5', \"r\")\n",
    "    train_x_orig = np.array(train_dataset[\"train_set_x\"][:]) # features\n",
    "    train_y_orig = np.array(train_dataset[\"train_set_y\"][:]) # labels( 0: not cat, 1: is cat)\n",
    "    \n",
    "    # 测试集有 50 张 64x64像素（宽x高）的图像，包含三个色素（R，G，B）\n",
    "    test_dataset = h5py.File('datasets/test_catvnoncat.h5', \"r\")\n",
    "    test_x_orig = np.array(test_dataset[\"test_set_x\"][:]) # features\n",
    "    test_y_orig = np.array(test_dataset[\"test_set_y\"][:]) # labels\n",
    "    \n",
    "    # 存储的是以 bytes类型 保存的两个类别名称字符串：[b’non-cat’，b’cat’]\n",
    "    classes = np.array(test_dataset[\"list_classes\"][:]) # the list of classes\n",
    "    \n",
    "    # 类别转换为二阶张量\n",
    "    train_y_orig = train_y_orig.reshape((1, train_y_orig.shape[0]))\n",
    "    test_y_orig = test_y_orig.reshape((1, test_y_orig.shape[0]))\n",
    "    \n",
    "    return train_x_orig, train_y_orig, test_x_orig, test_y_orig, classes"
   ]
  },
  {
   "cell_type": "code",
   "execution_count": 187,
   "metadata": {},
   "outputs": [],
   "source": [
    "train_x_orig , train_y , test_x_orig , test_y , classes = load_dataset()"
   ]
  },
  {
   "cell_type": "code",
   "execution_count": 188,
   "metadata": {},
   "outputs": [
    {
     "name": "stdout",
     "output_type": "stream",
     "text": [
      "(209, 64, 64, 3)\n",
      "(1, 209)\n",
      "(50, 64, 64, 3)\n",
      "(1, 50)\n"
     ]
    }
   ],
   "source": [
    "print(train_x_orig.shape)\n",
    "print(train_y.shape)\n",
    "\n",
    "print(test_x_orig.shape)\n",
    "print(test_y.shape)"
   ]
  },
  {
   "cell_type": "code",
   "execution_count": 189,
   "metadata": {},
   "outputs": [
    {
     "data": {
      "text/plain": [
       "array([[1, 1, 1, 1, 1, 0, 1, 1, 1, 1, 1, 1, 1, 0, 0, 1, 0, 1, 1, 1, 1, 0,\n",
       "        0, 1, 1, 1, 1, 0, 1, 0, 1, 1, 1, 1, 0, 0, 0, 1, 0, 0, 1, 1, 1, 0,\n",
       "        0, 0, 1, 1, 1, 0]], dtype=int64)"
      ]
     },
     "execution_count": 189,
     "metadata": {},
     "output_type": "execute_result"
    }
   ],
   "source": [
    "test_y"
   ]
  },
  {
   "cell_type": "code",
   "execution_count": 190,
   "metadata": {},
   "outputs": [
    {
     "data": {
      "text/plain": [
       "array([b'non-cat', b'cat'], dtype='|S7')"
      ]
     },
     "execution_count": 190,
     "metadata": {},
     "output_type": "execute_result"
    }
   ],
   "source": [
    "classes"
   ]
  },
  {
   "cell_type": "code",
   "execution_count": null,
   "metadata": {},
   "outputs": [],
   "source": []
  },
  {
   "cell_type": "markdown",
   "metadata": {},
   "source": [
    "#### 对数据集的分析"
   ]
  },
  {
   "cell_type": "markdown",
   "metadata": {},
   "source": [
    "**查看**训练集的第26张图片及其对应类别"
   ]
  },
  {
   "cell_type": "code",
   "execution_count": 191,
   "metadata": {},
   "outputs": [
    {
     "name": "stdout",
     "output_type": "stream",
     "text": [
      "y=1, it's a cat picture\n",
      "(64, 64, 3)\n"
     ]
    },
    {
     "data": {
      "text/plain": [
       "<matplotlib.image.AxesImage at 0x1ca3b17aa90>"
      ]
     },
     "execution_count": 191,
     "metadata": {},
     "output_type": "execute_result"
    },
    {
     "data": {
      "image/png": "[encoded data removed]",
      "text/plain": [
       "<Figure size 432x288 with 1 Axes>"
      ]
     },
     "metadata": {
      "needs_background": "light"
     },
     "output_type": "display_data"
    }
   ],
   "source": [
    "index = 25\n",
    "# docode：bytes to str\n",
    "print(\"y=\" + str(train_y[0][index]) + \", it's a \" + classes[np.squeeze(train_y[:,index])].decode(\"utf-8\") + \" picture\")\n",
    "print(train_x_orig[index].shape)\n",
    "\n",
    "plt.imshow(train_x_orig[index])"
   ]
  },
  {
   "cell_type": "markdown",
   "metadata": {},
   "source": [
    "**笔记**\n",
    "\n",
    "**squeeze 函数**：从数组的形状中删除**所有的**单维度条目，即把shape中为1的维度去掉，数组的shape会变化"
   ]
  },
  {
   "cell_type": "code",
   "execution_count": 192,
   "metadata": {},
   "outputs": [
    {
     "data": {
      "text/plain": [
       "(10,)"
      ]
     },
     "execution_count": 192,
     "metadata": {},
     "output_type": "execute_result"
    }
   ],
   "source": [
    "a = np.arange(10).reshape(1,1,1,10)\n",
    "np.squeeze(a).shape"
   ]
  },
  {
   "cell_type": "code",
   "execution_count": 193,
   "metadata": {},
   "outputs": [
    {
     "name": "stdout",
     "output_type": "stream",
     "text": [
      "[1]\n",
      "1\n",
      "(1,)\n",
      "()\n"
     ]
    }
   ],
   "source": [
    "print(train_y[:,index])\n",
    "print(np.squeeze(train_y[:,index]))\n",
    "\n",
    "print(train_y[:,index].shape)\n",
    "print(np.squeeze(train_y[:,index]).shape)"
   ]
  },
  {
   "cell_type": "markdown",
   "metadata": {},
   "source": [
    "**笔记**\n",
    "\n",
    "使用squeeze函数的目的是为了能够解码，**数组的shape会变化**"
   ]
  },
  {
   "cell_type": "code",
   "execution_count": 194,
   "metadata": {},
   "outputs": [
    {
     "name": "stdout",
     "output_type": "stream",
     "text": [
      "[b'cat']\n",
      "b'cat'\n"
     ]
    }
   ],
   "source": [
    "print(classes[train_y[:,index]])\n",
    "print(classes[np.squeeze(train_y[:,index])])"
   ]
  },
  {
   "cell_type": "code",
   "execution_count": null,
   "metadata": {},
   "outputs": [],
   "source": []
  },
  {
   "cell_type": "markdown",
   "metadata": {},
   "source": [
    "#### 数据的预处理"
   ]
  },
  {
   "cell_type": "markdown",
   "metadata": {},
   "source": [
    "为了方便后续的神经网络训练，对每张图片进行**降维操作**，最后转置：  \n",
    "（64，64，3, num）-->（64 x 64 x 3, num）=（12288，num）"
   ]
  },
  {
   "cell_type": "code",
   "execution_count": 195,
   "metadata": {},
   "outputs": [
    {
     "name": "stdout",
     "output_type": "stream",
     "text": [
      "训练集降维最后的维度： (12288, 209)\n",
      "测试集降维之后的维度: (12288, 50)\n"
     ]
    }
   ],
   "source": [
    "train_x_flatten  = train_x_orig.reshape(train_x_orig.shape[0], -1).T\n",
    "test_x_flatten = test_x_orig.reshape(test_x_orig.shape[0], -1).T\n",
    "\n",
    "print (\"训练集降维最后的维度： \" + str(train_x_flatten.shape))\n",
    "print (\"测试集降维之后的维度: \" + str(test_x_flatten.shape))"
   ]
  },
  {
   "cell_type": "markdown",
   "metadata": {},
   "source": [
    "像素值的取值范围是0到255（红绿蓝三色素的取值都是这个范围），常见的**预处理**是居中和标准化，但对于图片数据集，归一化即可，即除以255让数据位于[0,1]之间。  \n",
    "不进行归一化的话，后面sigmoid计算可能会出现**数值溢出问题**"
   ]
  },
  {
   "cell_type": "code",
   "execution_count": 196,
   "metadata": {},
   "outputs": [
    {
     "data": {
      "text/plain": [
       "(255, 0, 255, 0)"
      ]
     },
     "execution_count": 196,
     "metadata": {},
     "output_type": "execute_result"
    }
   ],
   "source": [
    "train_x_orig.max(), train_x_orig.min(), test_x_orig.max(), test_x_orig.min()"
   ]
  },
  {
   "cell_type": "code",
   "execution_count": 197,
   "metadata": {},
   "outputs": [],
   "source": [
    "train_x = train_x_flatten / 255\n",
    "test_x = test_x_flatten / 255"
   ]
  },
  {
   "cell_type": "code",
   "execution_count": null,
   "metadata": {},
   "outputs": [],
   "source": []
  },
  {
   "cell_type": "markdown",
   "metadata": {},
   "source": [
    "#### 构建模型--针对批量样本\n",
    "建立浅层神经网络（Logistic回归）的主要步骤是：\n",
    "- 1.定义模型结构（例如输入特征的数量）\n",
    "- 2.初始化模型的参数\n",
    "- 3.循环：\n",
    " - 3.1 计算当前损失（正向传播）\n",
    " - 3.2 计算当前梯度（反向传播）\n",
    " - 3.3 更新参数（梯度下降）\n",
    " \n",
    "##### 构建 sigmoid() 函数"
   ]
  },
  {
   "cell_type": "code",
   "execution_count": 198,
   "metadata": {},
   "outputs": [],
   "source": [
    "def sigmoid(z):\n",
    "    \"\"\"z  - 标量或任何size（包括张量）的numpy数组 \n",
    "    \"\"\"\n",
    "    return 1 / (1 + np.exp(-z))"
   ]
  },
  {
   "cell_type": "markdown",
   "metadata": {},
   "source": [
    "测试 sigmoid() 函数"
   ]
  },
  {
   "cell_type": "code",
   "execution_count": 199,
   "metadata": {},
   "outputs": [],
   "source": [
    "#print(\"====================测试sigmoid====================\")\n",
    "#print (\"sigmoid(0) = \" + str(sigmoid(0)))      # 应该等于 0.5\n",
    "#print (\"sigmoid(9.2) = \" + str(sigmoid(9.2)))  # 应该是逼近 1"
   ]
  },
  {
   "cell_type": "code",
   "execution_count": 200,
   "metadata": {},
   "outputs": [
    {
     "name": "stdout",
     "output_type": "stream",
     "text": [
      "[[0.57163907 0.14504307 0.28622384]\n",
      " [0.6876108  0.32941441 0.43695623]]\n"
     ]
    }
   ],
   "source": [
    "# 处理张量\n",
    "sig_test = np.random.randn(2, 3)\n",
    "print(sigmoid(sig_test))"
   ]
  },
  {
   "cell_type": "markdown",
   "metadata": {},
   "source": [
    "##### 初始化参数 w 和 b\n",
    "浅层神经网络（没有隐藏层），只有一个神经元：\n",
    "- 权重用的是 $w$，而不是 $W$\n",
    "- 把 $w$ 全部初始化为 $0$ 也没问题，效果仍等同于随机初始化，因为不存在不同神经元之间功能相同的问题"
   ]
  },
  {
   "cell_type": "code",
   "execution_count": 201,
   "metadata": {},
   "outputs": [],
   "source": [
    "def initialize_with_zeros(dim):\n",
    "    \"\"\"\n",
    "        零初始化\n",
    "        参数：dim  - w矢量（列向量）的大小（参数数量，特征数，等于X的行数，前面转置过）\n",
    "    \"\"\"\n",
    "    w = np.zeros(shape = (dim, 1))\n",
    "    b = 0\n",
    "    \n",
    "    assert(w.shape == (dim, 1))                        # 确保 w 的维度是(dim,1)\n",
    "    assert(isinstance(b, float) or isinstance(b, int)) # 确保 b 的类型是float或者int\n",
    "    \n",
    "    return (w , b)"
   ]
  },
  {
   "cell_type": "markdown",
   "metadata": {},
   "source": [
    "##### 计算当前参数的成本函数 $J$ 及梯度 $dw、db$\n",
    "表面上看起来参数的梯度计算没有用到成本，实际上是有的"
   ]
  },
  {
   "cell_type": "code",
   "execution_count": 202,
   "metadata": {},
   "outputs": [],
   "source": [
    "def propagate(w, b, X, y):\n",
    "    \"\"\"\n",
    "    实现批量样本的前向传播，成本函数（loss）的计算，以及反向传播的梯度计算。\n",
    "    参数：\n",
    "        X  - 矩阵类型为（64 * 64 * 3，num）\n",
    "        y  - 真正的“标签”矢量（行向量）\n",
    "    \"\"\"\n",
    "    m = X.shape[1]\n",
    "    \n",
    "    #正向传播：计算激活值矢量 a （即为预测概率 y_hat，是行向量），np.dot 是矩阵乘法\n",
    "    a = sigmoid(np.dot(w.T, X) + b) \n",
    "    \n",
    "    # 计算损失（逻辑回归的负对数似然成本），* 是哈达玛积（element-wise product）\n",
    "    cost = (- 1 / m) * np.sum(y * np.log(a) + (1 - y) * (np.log(1 - a)))\n",
    "    # squeeze之前的shape是 (1,)\n",
    "    cost = np.squeeze(cost)\n",
    "    \n",
    "    # 反向传播：多写一步 dz\n",
    "    dz = a - y\n",
    "    dw = (1 / m) * np.dot(X, dz.T)                  \n",
    "    db = (1 / m) * np.sum(dz)                        \n",
    "    \n",
    "    # 确保: dw与w 形状相同，db、cost 是标量\n",
    "    assert(dw.shape == w.shape)\n",
    "    assert(db.shape == ())\n",
    "    assert(db.dtype == float)   \n",
    "    assert(cost.shape == ()) \n",
    "    \n",
    "    # 保存 dw和db\n",
    "    grads = {\"dw\": dw, \"db\": db}\n",
    "    \n",
    "    return (grads , cost)"
   ]
  },
  {
   "cell_type": "markdown",
   "metadata": {},
   "source": [
    "测试成本函数和梯度的计算"
   ]
  },
  {
   "cell_type": "code",
   "execution_count": 203,
   "metadata": {},
   "outputs": [],
   "source": [
    "#print(\"====================测试propagate====================\")\\\n",
    "\n",
    "# 初始化一些参数，2个特征\n",
    "#w, b, X, y = np.array([[1], [2]]), 2, np.array([[1,2], [3,4]]), np.array([[1, 0]])\n",
    "#grads, cost = propagate(w, b, X, y)\n",
    "#print (\"dw = \", grads[\"dw\"])\n",
    "#print (\"db = \", grads[\"db\"])\n",
    "#print (\"cost = \" + str(cost))"
   ]
  },
  {
   "cell_type": "markdown",
   "metadata": {},
   "source": [
    "##### 梯度下降法来迭代更新参数\n",
    "目标是通过最小化成本函数 J 来学习 w 和 b。对于参数 $\\theta$，更新规则是 $\\theta = \\theta - \\alpha* \\text{ } d\\theta$，其中 $\\alpha$ 是学习率。"
   ]
  },
  {
   "cell_type": "code",
   "execution_count": 204,
   "metadata": {},
   "outputs": [],
   "source": [
    "def optimize(w, b, X, y, num_iterations, learning_rate, print_cost=500):\n",
    "    \"\"\"\n",
    "    梯度下降算法来多次迭代优化w和b，每迭代50次记录一下损失值，用于后面绘制成本曲线   \n",
    "    \n",
    "    参数：\n",
    "        print_cost  - 是否每500步迭代打印一次损失值    \n",
    "    \"\"\"   \n",
    "    costs = []\n",
    "    \n",
    "    for i in range(1, num_iterations+1):\n",
    "        # 计算当前参数下的成本和梯度\n",
    "        grads, cost = propagate(w, b, X, y)                \n",
    "        \n",
    "        # 梯度下降法更新参数，是减号\n",
    "        dw = grads[\"dw\"]\n",
    "        db = grads[\"db\"]\n",
    "        w = w - learning_rate * dw\n",
    "        b = b - learning_rate * db\n",
    "        \n",
    "        # 每迭代 50 次记录一下损失值\n",
    "        if i % 50 == 0:\n",
    "            costs.append(cost)\n",
    "            \n",
    "        # 每梯度下降500次，打印一下损失值\n",
    "        if print_cost and (i % print_cost == 0):\n",
    "            print(\"迭代的次数: %i ， 损失： %f\" % (i, cost))\n",
    "        \n",
    "    params  = {\"w\" : w, \"b\" : b }\n",
    "    grads = {\"dw\": dw, \"db\": db } \n",
    "    \n",
    "    return (params , grads , costs)"
   ]
  },
  {
   "cell_type": "markdown",
   "metadata": {},
   "source": [
    "测试一下优化函数"
   ]
  },
  {
   "cell_type": "code",
   "execution_count": 205,
   "metadata": {},
   "outputs": [
    {
     "name": "stdout",
     "output_type": "stream",
     "text": [
      "====================测试optimize====================\n"
     ]
    }
   ],
   "source": [
    "print(\"====================测试optimize====================\")\n",
    "# 初始化参数\n",
    "#w, b, X, y = np.array([[1], [2]]), 2, np.array([[1,2], [3,4]]), np.array([[1, 0]])\n",
    "#params, grads, costs = optimize(w, b, X, y, num_iterations=3000, learning_rate=0.01, print_cost=True)\n",
    "# print (\"w = \" + str(params[\"w\"]))\n",
    "# print (\"b = \" + str(params[\"b\"]))\n",
    "# print (\"dw = \" + str(grads[\"dw\"]))\n",
    "# print (\"db = \" + str(grads[\"db\"]))"
   ]
  },
  {
   "cell_type": "markdown",
   "metadata": {},
   "source": [
    "##### 类别的预测--批量\n",
    "预测有两个步骤：\n",
    "- 1.计算 $\\hat{y} = a = \\sigma(w^T X + b)$ \n",
    "- 2.输出预测类别，a的值为0（如果激活值<= 0.5）或者 1（如果激活值> 0.5）"
   ]
  },
  {
   "cell_type": "code",
   "execution_count": 206,
   "metadata": {},
   "outputs": [],
   "source": [
    "def predict(w, b, X):\n",
    "    \"\"\"\n",
    "    使用学习后的逻辑回归参数（w，b）来预测类别（预测概率转换为预测类别，0或1）\n",
    "    \n",
    "    返回：\n",
    "        矢量 y_class_prediction  - 预测类别【0 | 1】\n",
    "    \n",
    "    \"\"\"       \n",
    "    # 样本数\n",
    "    m = X.shape[1]\n",
    "    \n",
    "    # 计算每个图片有猫出现的预测概率，正向传播\n",
    "    a = sigmoid(np.dot(w.T , X) + b)\n",
    "    # y_hat = a\n",
    "    \n",
    "    # 将每个样本的预测概率转换为预测类别\n",
    "    y_class_prediction = np.zeros((1, m))\n",
    "    for i in range(m):\n",
    "        y_class_prediction[0, i] = 1 if a[0, i] > 0.5 else 0\n",
    "    \n",
    "    assert(y_class_prediction.shape == (1, m))\n",
    "    \n",
    "    return y_class_prediction"
   ]
  },
  {
   "cell_type": "code",
   "execution_count": 207,
   "metadata": {},
   "outputs": [
    {
     "name": "stdout",
     "output_type": "stream",
     "text": [
      "[[1. 0.]]\n"
     ]
    }
   ],
   "source": [
    "# 但是也可以直接修改自身数值\n",
    "a = np.array([[0.9, 0.2]])\n",
    "for i in range(a.shape[1]):\n",
    "    a[0, i] = 1 if a[0, i] > 0.5 else 0\n",
    "print(a)"
   ]
  },
  {
   "cell_type": "markdown",
   "metadata": {},
   "source": [
    "再测试一下"
   ]
  },
  {
   "cell_type": "code",
   "execution_count": 208,
   "metadata": {},
   "outputs": [],
   "source": [
    "#print(\"====================测试predict====================\")\n",
    "#w, b, X, y = np.array([[1], [2]]), 2, np.array([[1,2], [3,4]]), np.array([[1, 0]])\n",
    "#print(\"predictions = \" + str(predict(w, b, X)))"
   ]
  },
  {
   "cell_type": "markdown",
   "metadata": {},
   "source": [
    "##### 模型构建"
   ]
  },
  {
   "cell_type": "code",
   "execution_count": 209,
   "metadata": {},
   "outputs": [],
   "source": [
    "def model(X_train, y_train, X_test, y_test, num_iterations=2000, learning_rate=0.5, print_cost=500):\n",
    "    \"\"\"\n",
    "    通过调用之前定义的函数来构建传统的逻辑回归模型\n",
    "    \n",
    "    参数：\n",
    "        print_cost  - 设置为true，每500次迭代打印一次成本\n",
    "    \n",
    "    返回：\n",
    "        d  - 包含有关模型信息的字典。\n",
    "    \"\"\"\n",
    "    # 初始化参数，输入特征维度\n",
    "    w, b = initialize_with_zeros(X_train.shape[0])\n",
    "    \n",
    "    # 多次迭代，更新参数，计算成本\n",
    "    parameters, grads, costs = optimize(w, b, X_train, y_train, num_iterations, learning_rate, print_cost)\n",
    "    w, b = parameters[\"w\"], parameters[\"b\"]\n",
    "    \n",
    "    # 批量预测训练集和测试集数据\n",
    "    y_class_prediction_test = predict(w, b, X_test)\n",
    "    y_class_prediction_train = predict(w, b, X_train)\n",
    "    \n",
    "    # 预测准确性计算， 两种写法，np.abs取绝对值（为了对 1 求和，代表类别不一致）\n",
    "    print(\"训练集准确率：\" , np.mean(y_class_prediction_train == y_train) )\n",
    "    print(\"测试集准确率：\" , format(1 - np.mean(np.abs(y_class_prediction_test - y_test))) )\n",
    "    \n",
    "    d = {\n",
    "            \"costs\": costs,\n",
    "            \"Y_prediction_test\": y_class_prediction_test,\n",
    "            \"Y_prediciton_train\": y_class_prediction_train,\n",
    "            \"w\": w,\n",
    "            \"b\": b,\n",
    "            \"learning_rate\": learning_rate,\n",
    "            \"num_iterations\": num_iterations \n",
    "    }\n",
    "    return d"
   ]
  },
  {
   "cell_type": "code",
   "execution_count": 210,
   "metadata": {},
   "outputs": [
    {
     "data": {
      "text/plain": [
       "array([[0, 1]])"
      ]
     },
     "execution_count": 210,
     "metadata": {},
     "output_type": "execute_result"
    }
   ],
   "source": [
    "np.abs(np.array([[1,0]]) - np.array([1,1]))"
   ]
  },
  {
   "cell_type": "markdown",
   "metadata": {},
   "source": [
    "正式的测试，使用真实数据；根据预测准确率可知，**存在过拟合问题**"
   ]
  },
  {
   "cell_type": "code",
   "execution_count": 211,
   "metadata": {},
   "outputs": [
    {
     "name": "stdout",
     "output_type": "stream",
     "text": [
      "迭代的次数: 100 ， 损失： 0.644898\n",
      "迭代的次数: 200 ， 损失： 0.484894\n",
      "迭代的次数: 300 ， 损失： 0.377761\n",
      "迭代的次数: 400 ， 损失： 0.331775\n",
      "迭代的次数: 500 ， 损失： 0.303529\n",
      "迭代的次数: 600 ， 损失： 0.280094\n",
      "迭代的次数: 700 ， 损失： 0.260226\n",
      "迭代的次数: 800 ， 损失： 0.243100\n",
      "迭代的次数: 900 ， 损失： 0.228144\n",
      "迭代的次数: 1000 ， 损失： 0.214944\n",
      "迭代的次数: 1100 ， 损失： 0.203189\n",
      "迭代的次数: 1200 ， 损失： 0.192644\n",
      "迭代的次数: 1300 ， 损失： 0.183124\n",
      "迭代的次数: 1400 ， 损失： 0.174481\n",
      "迭代的次数: 1500 ， 损失： 0.166597\n",
      "迭代的次数: 1600 ， 损失： 0.159374\n",
      "迭代的次数: 1700 ， 损失： 0.152731\n",
      "迭代的次数: 1800 ， 损失： 0.146601\n",
      "迭代的次数: 1900 ， 损失： 0.140927\n",
      "迭代的次数: 2000 ， 损失： 0.135659\n",
      "训练集准确率： 0.9904306220095693\n",
      "测试集准确率： 0.7\n"
     ]
    }
   ],
   "source": [
    "#print(\"====================测试model====================\")     \n",
    "d = model(train_x, train_y, test_x, test_y, learning_rate=0.005, print_cost=100)"
   ]
  },
  {
   "cell_type": "markdown",
   "metadata": {},
   "source": [
    "##### 绘制成本变化图"
   ]
  },
  {
   "cell_type": "code",
   "execution_count": 212,
   "metadata": {},
   "outputs": [
    {
     "data": {
      "image/png": "[encoded data removed]",
      "text/plain": [
       "<Figure size 432x288 with 1 Axes>"
      ]
     },
     "metadata": {
      "needs_background": "light"
     },
     "output_type": "display_data"
    }
   ],
   "source": [
    "plt.figure(figsize=(6,4))\n",
    "plt.plot(d['costs'])\n",
    "plt.ylabel('cost of the training datasets')\n",
    "plt.xlabel('iterations (per hundreds)')\n",
    "plt.title(\"Learning rate =\" + str(d[\"learning_rate\"]))\n",
    "plt.show()"
   ]
  },
  {
   "attachments": {
    "image.png": {
     "image/png": "[encoded data removed]"
    }
   },
   "cell_type": "markdown",
   "metadata": {},
   "source": [
    "##### 不同学习率的尝试\n",
    "调整学习率至关重要，学习率 $\\alpha$ 决定了参数更新的速度。如果学习率过高，可能会“超过”最优值；如果过低则将需要过多次迭代才能收敛到最佳值\n",
    "![image.png](attachment:image.png)"
   ]
  },
  {
   "cell_type": "code",
   "execution_count": 213,
   "metadata": {},
   "outputs": [
    {
     "name": "stdout",
     "output_type": "stream",
     "text": [
      "learning rate is: 0.01\n",
      "迭代的次数: 500 ， 损失： 0.460014\n",
      "迭代的次数: 1000 ， 损失： 0.116557\n",
      "迭代的次数: 1500 ， 损失： 0.087496\n",
      "训练集准确率： 0.9952153110047847\n",
      "测试集准确率： 0.6799999999999999\n",
      "\n",
      "-------------------------------------------------------\n",
      "\n",
      "learning rate is: 0.001\n",
      "迭代的次数: 500 ， 损失： 0.488058\n",
      "迭代的次数: 1000 ， 损失： 0.418276\n",
      "迭代的次数: 1500 ， 损失： 0.370553\n",
      "训练集准确率： 0.8899521531100478\n",
      "测试集准确率： 0.64\n",
      "\n",
      "-------------------------------------------------------\n",
      "\n",
      "learning rate is: 0.0001\n",
      "迭代的次数: 500 ， 损失： 0.616087\n",
      "迭代的次数: 1000 ， 损失： 0.591382\n",
      "迭代的次数: 1500 ， 损失： 0.572081\n",
      "训练集准确率： 0.6842105263157895\n",
      "测试集准确率： 0.36\n",
      "\n",
      "-------------------------------------------------------\n",
      "\n"
     ]
    },
    {
     "data": {
      "image/png": "[encoded data removed]",
      "text/plain": [
       "<Figure size 432x288 with 1 Axes>"
      ]
     },
     "metadata": {
      "needs_background": "light"
     },
     "output_type": "display_data"
    }
   ],
   "source": [
    "# 0.01的学习率过大，刚开始cost甚至会急剧增加\n",
    "learning_rates = [0.01, 0.001, 0.0001]\n",
    "models = {} \n",
    "for i in learning_rates:\n",
    "    print (\"learning rate is: \" + str(i))\n",
    "    models[i] = model(train_x, train_y, test_x, test_y, num_iterations=1500, learning_rate=i)\n",
    "    print ('\\n' + \"-------------------------------------------------------\" + '\\n')\n",
    "\n",
    "for i in learning_rates:\n",
    "    plt.plot(models[i][\"costs\"], label= str(models[i][\"learning_rate\"]))\n",
    "\n",
    "plt.title(\"cost J under different learning rates\")\n",
    "plt.ylabel('cost of training datasets')\n",
    "plt.xlabel('iterations (per 50 iterations)')\n",
    "legend = plt.legend(loc='upper center', shadow=True)\n",
    "\n",
    "# ？？\n",
    "frame = legend.get_frame()\n",
    "frame.set_facecolor('0.90')\n",
    "plt.show()"
   ]
  },
  {
   "cell_type": "markdown",
   "metadata": {},
   "source": [
    "#### 由学习率引出的问题\n",
    "当学习率较大时，比如0.05，z会太小或太大，在sigmoid（z）里面，就会溢出，会警告：\n",
    "- RuntimeWarning: divide by zero encountered in log cost = (- 1 / m) * np.sum(Y * np.log(A) + (1 - Y) * (np.log(1 - A))) \n",
    "- RuntimeWarning: invalid value encountered in multiply cost = (- 1 / m) * np.sum(Y * np.log(A) + (1 - Y) * (np.log(1 - A))) \n",
    "\n",
    "**应从学习率和激活函数两方面分析**"
   ]
  },
  {
   "cell_type": "code",
   "execution_count": 214,
   "metadata": {},
   "outputs": [
    {
     "name": "stderr",
     "output_type": "stream",
     "text": [
      "d:\\softwares\\anaconda\\envs\\tf\\lib\\site-packages\\ipykernel_launcher.py:14: RuntimeWarning: divide by zero encountered in log\n",
      "  \n",
      "d:\\softwares\\anaconda\\envs\\tf\\lib\\site-packages\\ipykernel_launcher.py:14: RuntimeWarning: invalid value encountered in multiply\n",
      "  \n"
     ]
    },
    {
     "name": "stdout",
     "output_type": "stream",
     "text": [
      "迭代的次数: 100 ， 损失： 13.037828\n",
      "迭代的次数: 200 ， 损失： 3.156698\n",
      "迭代的次数: 300 ， 损失： 0.377705\n",
      "迭代的次数: 400 ， 损失： 3.410418\n",
      "迭代的次数: 500 ， 损失： 0.100939\n",
      "迭代的次数: 600 ， 损失： 0.064794\n",
      "迭代的次数: 700 ， 损失： 0.023730\n",
      "迭代的次数: 800 ， 损失： 0.016533\n",
      "迭代的次数: 900 ， 损失： 0.013259\n",
      "迭代的次数: 1000 ， 损失： 0.011326\n",
      "迭代的次数: 1100 ， 损失： 0.010017\n",
      "迭代的次数: 1200 ， 损失： 0.009052\n",
      "迭代的次数: 1300 ， 损失： 0.008301\n",
      "迭代的次数: 1400 ， 损失： 0.007695\n",
      "迭代的次数: 1500 ， 损失： 0.007191\n",
      "迭代的次数: 1600 ， 损失： 0.006765\n",
      "迭代的次数: 1700 ， 损失： 0.006398\n",
      "迭代的次数: 1800 ， 损失： 0.006078\n",
      "迭代的次数: 1900 ， 损失： 0.005795\n",
      "迭代的次数: 2000 ， 损失： 0.005544\n",
      "训练集准确率： 1.0\n",
      "测试集准确率： 0.6799999999999999\n"
     ]
    }
   ],
   "source": [
    "d = model(train_x, train_y, test_x, test_y, learning_rate=0.05, print_cost=100)"
   ]
  },
  {
   "cell_type": "markdown",
   "metadata": {},
   "source": [
    "**刚开始的损失都超过10了 ！！！**"
   ]
  },
  {
   "cell_type": "code",
   "execution_count": 215,
   "metadata": {},
   "outputs": [
    {
     "data": {
      "text/plain": [
       "[<matplotlib.lines.Line2D at 0x1ca3b2c7748>]"
      ]
     },
     "execution_count": 215,
     "metadata": {},
     "output_type": "execute_result"
    },
    {
     "data": {
      "image/png": "[encoded data removed]",
      "text/plain": [
       "<Figure size 432x288 with 1 Axes>"
      ]
     },
     "metadata": {
      "needs_background": "light"
     },
     "output_type": "display_data"
    }
   ],
   "source": [
    "plt.plot(d['costs'])"
   ]
  },
  {
   "cell_type": "markdown",
   "metadata": {},
   "source": [
    "**为何训练集的预测准确率如此之高 ？？**"
   ]
  },
  {
   "cell_type": "code",
   "execution_count": 216,
   "metadata": {},
   "outputs": [
    {
     "name": "stderr",
     "output_type": "stream",
     "text": [
      "d:\\softwares\\anaconda\\envs\\tf\\lib\\site-packages\\ipykernel_launcher.py:14: RuntimeWarning: divide by zero encountered in log\n",
      "  \n",
      "d:\\softwares\\anaconda\\envs\\tf\\lib\\site-packages\\ipykernel_launcher.py:14: RuntimeWarning: invalid value encountered in multiply\n",
      "  \n"
     ]
    },
    {
     "name": "stdout",
     "output_type": "stream",
     "text": [
      "迭代的次数: 100 ， 损失： nan\n",
      "迭代的次数: 200 ， 损失： nan\n",
      "迭代的次数: 300 ， 损失： nan\n",
      "迭代的次数: 400 ， 损失： nan\n",
      "迭代的次数: 500 ， 损失： 19.261492\n",
      "迭代的次数: 600 ， 损失： nan\n",
      "迭代的次数: 700 ， 损失： nan\n",
      "迭代的次数: 800 ， 损失： nan\n",
      "迭代的次数: 900 ， 损失： nan\n",
      "迭代的次数: 1000 ， 损失： nan\n",
      "迭代的次数: 1100 ， 损失： nan\n",
      "迭代的次数: 1200 ， 损失： nan\n",
      "迭代的次数: 1300 ， 损失： nan\n",
      "迭代的次数: 1400 ， 损失： nan\n",
      "迭代的次数: 1500 ， 损失： nan\n",
      "迭代的次数: 1600 ， 损失： nan\n",
      "迭代的次数: 1700 ， 损失： nan\n",
      "迭代的次数: 1800 ， 损失： nan\n",
      "迭代的次数: 1900 ， 损失： nan\n",
      "迭代的次数: 2000 ， 损失： nan\n",
      "训练集准确率： 1.0\n",
      "测试集准确率： 0.6799999999999999\n"
     ]
    }
   ],
   "source": [
    "d = model(train_x, train_y, test_x, test_y, learning_rate=0.1, print_cost=100)"
   ]
  },
  {
   "cell_type": "code",
   "execution_count": 217,
   "metadata": {},
   "outputs": [
    {
     "data": {
      "text/plain": [
       "[<matplotlib.lines.Line2D at 0x1ca3b335198>]"
      ]
     },
     "execution_count": 217,
     "metadata": {},
     "output_type": "execute_result"
    },
    {
     "data": {
      "image/png": "[encoded data removed]",
      "text/plain": [
       "<Figure size 432x288 with 1 Axes>"
      ]
     },
     "metadata": {
      "needs_background": "light"
     },
     "output_type": "display_data"
    }
   ],
   "source": [
    "plt.plot(d['costs'])"
   ]
  },
  {
   "cell_type": "raw",
   "metadata": {},
   "source": []
  }
 ],
 "metadata": {
  "kernelspec": {
   "display_name": "Python 3",
   "language": "python",
   "name": "python3"
  },
  "language_info": {
   "codemirror_mode": {
    "name": "ipython",
    "version": 3
   },
   "file_extension": ".py",
   "mimetype": "text/x-python",
   "name": "python",
   "nbconvert_exporter": "python",
   "pygments_lexer": "ipython3",
   "version": "3.6.2"
  },
  "toc": {
   "base_numbering": 1,
   "nav_menu": {},
   "number_sections": true,
   "sideBar": true,
   "skip_h1_title": false,
   "title_cell": "Table of Contents",
   "title_sidebar": "Contents",
   "toc_cell": false,
   "toc_position": {
    "height": "calc(100% - 180px)",
    "left": "10px",
    "top": "150px",
    "width": "245.75px"
   },
   "toc_section_display": true,
   "toc_window_display": true
  }
 },
 "nbformat": 4,
 "nbformat_minor": 2
}
